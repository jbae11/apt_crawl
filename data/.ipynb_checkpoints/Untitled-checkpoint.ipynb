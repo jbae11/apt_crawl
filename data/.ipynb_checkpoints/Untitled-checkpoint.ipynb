{
 "cells": [
  {
   "cell_type": "code",
   "execution_count": 1,
   "metadata": {},
   "outputs": [],
   "source": [
    "import os\n",
    "import pandas as pd\n",
    "import matplotlib.pyplot as plt\n",
    "import datetime"
   ]
  },
  {
   "cell_type": "code",
   "execution_count": 2,
   "metadata": {},
   "outputs": [],
   "source": [
    "x = os.listdir('.')\n",
    "x = [q for q in x if '.csv' in q]"
   ]
  },
  {
   "cell_type": "code",
   "execution_count": 5,
   "metadata": {},
   "outputs": [],
   "source": [
    "for indx, val in enumerate(x):\n",
    "    if indx == 0:\n",
    "        df = pd.read_csv(val)\n",
    "        df['Date'] = [val.replace('.csv','')]*len(df)\n",
    "    else:\n",
    "        temp = pd.read_csv(val)\n",
    "        temp['Date'] = [val.replace('.csv','')]*len(temp)\n",
    "        df = df.append(temp)"
   ]
  },
  {
   "cell_type": "code",
   "execution_count": 6,
   "metadata": {},
   "outputs": [],
   "source": [
    "df.Date = pd.to_datetime(df['Date'], format='%Y-%m-%d')\n",
    "df.set_index(['Date'], inplace=True)"
   ]
  },
  {
   "cell_type": "code",
   "execution_count": 7,
   "metadata": {},
   "outputs": [
    {
     "name": "stdout",
     "output_type": "stream",
     "text": [
      "Enlcave at Hardin Valley\n",
      "Greystone Summit\n",
      "Greystone Vista\n",
      "Tapestry Turkey Creek\n",
      "Overlook at Farragut\n",
      "One Riverwalk  \n",
      "Maplehurst Park  \n",
      "Marble Alley Lofts\n",
      "Barclay House \n",
      "The Slate at 901\n",
      "Centennial Village \n",
      "Tara Hills \n",
      "Bristol Park at Oak Ridge\n"
     ]
    }
   ],
   "source": [
    "l = pd.unique(df.Apartment)\n",
    "for i in l:\n",
    "    print(i)"
   ]
  },
  {
   "cell_type": "code",
   "execution_count": 8,
   "metadata": {},
   "outputs": [],
   "source": [
    "apt_name = 'Enlcave at Hardin Valley'\n",
    "beds = 1\n",
    "new = df[(df['Apartment'] == apt_name) & (df['Beds'] == beds)]"
   ]
  },
  {
   "cell_type": "code",
   "execution_count": 31,
   "metadata": {},
   "outputs": [
    {
     "name": "stdout",
     "output_type": "stream",
     "text": [
      "1 1.0\n"
     ]
    },
    {
     "data": {
      "text/plain": [
       "<matplotlib.legend.Legend at 0x1116b30b8>"
      ]
     },
     "execution_count": 31,
     "metadata": {},
     "output_type": "execute_result"
    },
    {
     "data": {
      "image/png": "[encoded data removed]",
      "text/plain": [
       "<Figure size 720x720 with 1 Axes>"
      ]
     },
     "metadata": {
      "needs_background": "light"
     },
     "output_type": "display_data"
    }
   ],
   "source": [
    "apt_filtered = df[df['Apartment'] == apt_name]\n",
    "plt.figure(figsize=(10,10))\n",
    "for row,val in apt_filtered.drop_duplicates(subset=['Beds', 'Baths']).iterrows():\n",
    "    print(val.Beds, val.Baths)\n",
    "    new = apt_filtered[apt_filtered.Beds == val.Beds]\n",
    "    new = new[new.Baths == val.Baths]\n",
    "    plt.scatter(new.index, new.Rent, label='%s Beds %s Baths' %(val.Beds, int(val.Baths)))\n",
    "    break\n",
    "plt.xlim(min(apt_filtered.index), max(apt_filtered.index) )\n",
    "plt.ylim(min(apt_filtered.Rent) *0.95, max(apt_filtered.Rent) * 1.05)\n",
    "plt.xticks(rotation=45)\n",
    "plt.legend()"
   ]
  },
  {
   "cell_type": "code",
   "execution_count": null,
   "metadata": {},
   "outputs": [],
   "source": []
  }
 ],
 "metadata": {
  "kernelspec": {
   "display_name": "Python 3",
   "language": "python",
   "name": "python3"
  },
  "language_info": {
   "codemirror_mode": {
    "name": "ipython",
    "version": 3
   },
   "file_extension": ".py",
   "mimetype": "text/x-python",
   "name": "python",
   "nbconvert_exporter": "python",
   "pygments_lexer": "ipython3",
   "version": "3.6.8"
  }
 },
 "nbformat": 4,
 "nbformat_minor": 2
}
