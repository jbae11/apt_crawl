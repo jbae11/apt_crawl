{
 "cells": [
  {
   "cell_type": "code",
   "execution_count": 38,
   "metadata": {},
   "outputs": [],
   "source": [
    "import os\n",
    "import pandas as pd\n",
    "import matplotlib.pyplot as plt\n",
    "import datetime"
   ]
  },
  {
   "cell_type": "code",
   "execution_count": 6,
   "metadata": {},
   "outputs": [],
   "source": [
    "x = os.listdir('.')\n",
    "x = [q for q in x if '.csv' in q]"
   ]
  },
  {
   "cell_type": "code",
   "execution_count": 13,
   "metadata": {},
   "outputs": [
    {
     "data": {
      "text/plain": [
       "143"
      ]
     },
     "execution_count": 13,
     "metadata": {},
     "output_type": "execute_result"
    }
   ],
   "source": [
    "\n",
    "df = pd.read_csv(val)\n",
    "len(df)"
   ]
  },
  {
   "cell_type": "code",
   "execution_count": 32,
   "metadata": {},
   "outputs": [],
   "source": [
    "for indx, val in enumerate(x):\n",
    "    if indx == 0:\n",
    "        df = pd.read_csv(val)\n",
    "        df['Date'] = [val.replace('.csv','')]*len(df)\n",
    "    else:\n",
    "        temp = pd.read_csv(val)\n",
    "        temp['Date'] = [val.replace('.csv','')]*len(temp)\n",
    "        df = df.append(temp)"
   ]
  },
  {
   "cell_type": "code",
   "execution_count": 47,
   "metadata": {},
   "outputs": [],
   "source": [
    "df.Date = pd.to_datetime(df['Date'], format='%Y-%m-%d')\n",
    "df.set_index(['Date'], inplace=True)"
   ]
  },
  {
   "cell_type": "code",
   "execution_count": 48,
   "metadata": {},
   "outputs": [
    {
     "name": "stdout",
     "output_type": "stream",
     "text": [
      "Enlcave at Hardin Valley\n",
      "Greystone Summit\n",
      "Greystone Vista\n",
      "Tapestry Turkey Creek\n",
      "Overlook at Farragut\n",
      "One Riverwalk  \n",
      "Maplehurst Park  \n",
      "Marble Alley Lofts\n",
      "Barclay House \n",
      "The Slate at 901\n",
      "Centennial Village \n",
      "Tara Hills \n",
      "Bristol Park at Oak Ridge\n"
     ]
    }
   ],
   "source": [
    "l = pd.unique(df.Apartment)\n",
    "for i in l:\n",
    "    print(i)"
   ]
  },
  {
   "cell_type": "code",
   "execution_count": 55,
   "metadata": {},
   "outputs": [],
   "source": [
    "apt_name = 'Enlcave at Hardin Valley'\n",
    "beds = 1\n",
    "new = df[(df['Apartment'] == apt_name) & (df['Beds'] == beds)]"
   ]
  },
  {
   "cell_type": "code",
   "execution_count": 68,
   "metadata": {},
   "outputs": [
    {
     "data": {
      "text/plain": [
       "(array([737527., 737528., 737529., 737530., 737531., 737532., 737533.,\n",
       "        737534., 737535., 737536., 737537.]),\n",
       " <a list of 11 Text xticklabel objects>)"
      ]
     },
     "execution_count": 68,
     "metadata": {},
     "output_type": "execute_result"
    },
    {
     "data": {
      "image/png": "[encoded data removed]",
      "text/plain": [
       "<Figure size 720x720 with 1 Axes>"
      ]
     },
     "metadata": {
      "needs_background": "light"
     },
     "output_type": "display_data"
    }
   ],
   "source": [
    "plt.figure(figsize=(10,10))\n",
    "plt.bar(new.index, new.Rent)\n",
    "plt.xlim(min(new.index), max(new.index))\n",
    "plt.xticks(rotation=45)"
   ]
  },
  {
   "cell_type": "code",
   "execution_count": null,
   "metadata": {},
   "outputs": [],
   "source": []
  }
 ],
 "metadata": {
  "kernelspec": {
   "display_name": "Python 3",
   "language": "python",
   "name": "python3"
  },
  "language_info": {
   "codemirror_mode": {
    "name": "ipython",
    "version": 3
   },
   "file_extension": ".py",
   "mimetype": "text/x-python",
   "name": "python",
   "nbconvert_exporter": "python",
   "pygments_lexer": "ipython3",
   "version": "3.6.8"
  }
 },
 "nbformat": 4,
 "nbformat_minor": 2
}
